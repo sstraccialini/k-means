{
 "cells": [
  {
   "cell_type": "markdown",
   "metadata": {},
   "source": [
    "# K-Means"
   ]
  },
  {
   "cell_type": "code",
   "execution_count": 4,
   "metadata": {},
   "outputs": [],
   "source": [
    "import numpy as np\n",
    "import pandas as pd\n",
    "from scipy.optimize import linear_sum_assignment\n",
    "import matplotlib.pyplot as plt\n",
    "from operator import itemgetter"
   ]
  },
  {
   "cell_type": "code",
   "execution_count": 330,
   "metadata": {},
   "outputs": [],
   "source": [
    "class KMeans:\n",
    "    \"\"\"\n",
    "    Perform KMeans clustering on a dataset.\n",
    "    \"\"\"\n",
    "\n",
    "    def __init__(self, algorithm='lloyd', init='random', seed=None):\n",
    "        \"\"\"\n",
    "        Initialize the KMeans object.\n",
    "\n",
    "        Parameters\n",
    "        ----------\n",
    "        algorithm : {'lloyd', 'extended-hartigan', 'safe-hartigan', 'hartigan', 'extended-hartigan-2', 'safe-hartigan-2', 'hartigan-2'}\n",
    "            Algorithm to use. Either 'lloyd' or 'extended-hartigan' or 'safe-hartigan' or 'hartigan' or 'extended-hartigan-2'\n",
    "        \n",
    "        init : {'random', 'random-data', 'kmeans++', 'greedy'}\n",
    "            Initialization method. Either 'random' or 'random-data' or 'kmeans++' or 'greedy'\n",
    "\n",
    "        seed : int\n",
    "            Seed for random generator\n",
    "        \"\"\"\n",
    "\n",
    "        assert algorithm in ['lloyd', 'extended-hartigan', 'safe-hartigan', 'hartigan'], \"algorithm must be either 'lloyd' or 'hartigan'\"\n",
    "        assert init in ['random', 'random-data', 'kmeans++', 'greedy'], \"init must be either 'random', 'random-data', 'kmeans++' or 'greedy'\"\n",
    "        assert seed is None or isinstance(seed, int), \"seed must be an int or None\"\n",
    "\n",
    "        self.algorithm = algorithm\n",
    "        self.init = init\n",
    "        self.seed = seed\n",
    "\n",
    "        self.data = None\n",
    "        self.k = None\n",
    "        self.centroids = None\n",
    "        self.y_pred = None\n",
    "\n",
    "\n",
    "    def fit(self, data : np.ndarray, k : int, debug=False):\n",
    "        \"\"\"\n",
    "        Fit the model to the data.\n",
    "\n",
    "        Parameters\n",
    "        ----------\n",
    "        data : np.ndarray\n",
    "            nxd DataFrame of n samples with d features\n",
    "        k : int\n",
    "            Number of clusters\n",
    "\n",
    "        Returns\n",
    "        -------\n",
    "        np.ndarray\n",
    "            Array of shape (k, d) with cluster centroids\n",
    "        np.ndarray\n",
    "            Array of length n with cluster assignments for each sample\n",
    "        \"\"\"\n",
    "\n",
    "        assert isinstance(data, np.ndarray), \"data must be a numpy array\"\n",
    "        assert len(data.shape) == 2, \"data must be a 2D array\"\n",
    "        assert isinstance(k, int), \"k must be an int\"\n",
    "        assert k <= len(data), \"k must be at most the number of samples\"\n",
    "\n",
    "        self.data = data\n",
    "        self.k = k\n",
    "\n",
    "        np.random.seed(self.seed)\n",
    "        \n",
    "        # initialize centroids\n",
    "        self._init_centroids(debug)\n",
    "        debug and print('initial centroids:\\n', self.centroids)\n",
    "\n",
    "        ## TODO: implement clustering algorithm\n",
    "\n",
    "        return NotImplemented\n",
    "\n",
    "\n",
    "    ## TODO: implement predict method\n",
    "    def predict(self):\n",
    "        return NotImplemented\n",
    "\n",
    "\n",
    "    def _init_centroids(self, debug=False):\n",
    "        \"\"\"\n",
    "        Initialize the centroids.\n",
    "        \"\"\"\n",
    "\n",
    "        if self.init == 'random':\n",
    "            \n",
    "            # choose k random data points as initial centroids\n",
    "            idx = np.random.choice(self.data.shape[0], self.k, replace=False)\n",
    "            self.centroids = self.data[idx]\n",
    "\n",
    "        elif self.init == 'random-data':\n",
    "\n",
    "            # assign each data point to a random cluster\n",
    "            clusters = np.random.choice(self.k, self.data.shape[0])\n",
    "\n",
    "            # check that at least one point is assigned to each cluster\n",
    "            while len(set(clusters)) < self.k:\n",
    "                clusters = np.random.choice(self.k, self.data.shape[0])\n",
    "            self.y_pred = clusters\n",
    "            self.centroids = self._move_centroids(debug)\n",
    "\n",
    "            ## TODO: calculate centroids based on cluster assignments\n",
    "            return NotImplemented\n",
    "\n",
    "        elif self.init == 'kmeans++':\n",
    "    \n",
    "            # choose first centroid randomly\n",
    "            centroids = np.zeros((self.k, self.data.shape[1]))\n",
    "            centroids[0] = self.data[np.random.choice(self.data.shape[0], 1, replace=False)[0]]\n",
    "            debug and print('centroids:\\n', centroids)\n",
    "\n",
    "            # iterate over remaining k-1 centroids\n",
    "            for i in range(1, self.k):\n",
    "                debug and print('iteration', i)\n",
    "\n",
    "                # calculate distance squared of each point to closest centroid\n",
    "                dist = np.array([min([np.linalg.norm(c-x)**2 for c in centroids[:i]]) for x in self.data])\n",
    "                \n",
    "                # probabilities are given by the normalized distance squared\n",
    "                probs = dist / dist.sum()\n",
    "                debug and print('probs:', probs)\n",
    "\n",
    "                # cumulate probabilities\n",
    "                cumprobs = probs.cumsum()\n",
    "                \n",
    "                # choose next centroid randomly based on cumulated probabilities\n",
    "                r = np.random.rand()\n",
    "                debug and print('r:', r)\n",
    "                for j, p in enumerate(cumprobs):\n",
    "                    if r < p:\n",
    "                        break\n",
    "\n",
    "                centroids[i] = self.data[j]\n",
    "                debug and print('centroids:\\n', centroids)\n",
    "\n",
    "            self.centroids = centroids\n",
    "\n",
    "\n",
    "    def _move_centroids(self, debug=False):\n",
    "        \"\"\"\n",
    "        Move the centroids to the mean of their cluster.\n",
    "        \"\"\"\n",
    "\n",
    "        debug and print('y_pred:', self.y_pred)\n",
    "        debug and print('data:\\n', self.data)\n",
    "        debug and print('centroids_before:', self.centroids)\n",
    "\n",
    "        centroids = np.zeros((self.k, self.data.shape[1]))\n",
    "        for centroid_id in range(self.k):\n",
    "            centroids[centroid_id] = np.mean(self.data[self.y_pred == centroid_id], axis=0)\n",
    "\n",
    "        debug and print('centroids_after:\\n', centroids)\n",
    "\n",
    "        return centroids\n",
    "\n"
   ]
  },
  {
   "cell_type": "code",
   "execution_count": 342,
   "metadata": {},
   "outputs": [
    {
     "name": "stdout",
     "output_type": "stream",
     "text": [
      "centroids:\n",
      " [[3. 4.]\n",
      " [0. 0.]\n",
      " [0. 0.]]\n",
      "iteration 1\n",
      "probs: [0.00943396 0.         0.1509434  0.23584906 0.60377358]\n",
      "r: 0.1755918004572875\n",
      "centroids:\n",
      " [[ 3.  4.]\n",
      " [13. 14.]\n",
      " [ 0.  0.]]\n",
      "iteration 2\n",
      "probs: [0.09090909 0.         0.09090909 0.         0.81818182]\n",
      "r: 0.12228487837182511\n",
      "centroids:\n",
      " [[ 3.  4.]\n",
      " [13. 14.]\n",
      " [11. 12.]]\n",
      "initial centroids:\n",
      " [[ 3.  4.]\n",
      " [13. 14.]\n",
      " [11. 12.]]\n"
     ]
    },
    {
     "data": {
      "text/plain": [
       "NotImplemented"
      ]
     },
     "execution_count": 342,
     "metadata": {},
     "output_type": "execute_result"
    }
   ],
   "source": [
    "a = np.array([[1, 2], [3, 4], [11, 12], [13, 14], [19, 20]])\n",
    "\n",
    "kmeans = KMeans(algorithm='lloyd', init='kmeans++')\n",
    "kmeans.fit(a, 3, True)"
   ]
  },
  {
   "cell_type": "code",
   "execution_count": 329,
   "metadata": {},
   "outputs": [
    {
     "name": "stdout",
     "output_type": "stream",
     "text": [
      "1 [[0 0]]\n",
      "2 [[0 0]\n",
      " [1 1]]\n",
      "3 [[0 0]\n",
      " [1 1]\n",
      " [2 2]]\n",
      "4 [[0 0]\n",
      " [1 1]\n",
      " [2 2]\n",
      " [3 3]]\n",
      "5 [[0 0]\n",
      " [1 1]\n",
      " [2 2]\n",
      " [3 3]\n",
      " [4 4]]\n",
      "6 [[0 0]\n",
      " [1 1]\n",
      " [2 2]\n",
      " [3 3]\n",
      " [4 4]\n",
      " [5 5]]\n",
      "7 [[0 0]\n",
      " [1 1]\n",
      " [2 2]\n",
      " [3 3]\n",
      " [4 4]\n",
      " [5 5]\n",
      " [6 6]]\n",
      "8 [[0 0]\n",
      " [1 1]\n",
      " [2 2]\n",
      " [3 3]\n",
      " [4 4]\n",
      " [5 5]\n",
      " [6 6]\n",
      " [7 7]]\n",
      "9 [[0 0]\n",
      " [1 1]\n",
      " [2 2]\n",
      " [3 3]\n",
      " [4 4]\n",
      " [5 5]\n",
      " [6 6]\n",
      " [7 7]\n",
      " [8 8]]\n"
     ]
    }
   ],
   "source": [
    "a = np.array([[0,0], [1,1], [2,2], [3,3], [4,4], [5,5], [6,6], [7,7], [8,8], [9,9]])\n",
    "for i in range(1,10):\n",
    "    print(i, a[:i])"
   ]
  },
  {
   "cell_type": "code",
   "execution_count": 323,
   "metadata": {},
   "outputs": [
    {
     "name": "stdout",
     "output_type": "stream",
     "text": [
      "[False  True  True]\n"
     ]
    },
    {
     "data": {
      "text/plain": [
       "array([[1., 1.],\n",
       "       [2., 2.]])"
      ]
     },
     "execution_count": 323,
     "metadata": {},
     "output_type": "execute_result"
    }
   ],
   "source": [
    "a = np.array([[0.,0.], [1.,1.], [2.,2.]])\n",
    "\n",
    "# only positive entries\n",
    "print(np.all(a != 0, axis=1))\n",
    "a[np.all(a != 0, axis=1)]\n"
   ]
  },
  {
   "cell_type": "code",
   "execution_count": 169,
   "metadata": {},
   "outputs": [
    {
     "data": {
      "text/plain": [
       "array([2, 3, 4, 3, 4, 3, 1, 4, 3, 1], dtype=int32)"
      ]
     },
     "execution_count": 169,
     "metadata": {},
     "output_type": "execute_result"
    }
   ],
   "source": [
    "np.random.choice(5, 10)"
   ]
  },
  {
   "cell_type": "code",
   "execution_count": null,
   "metadata": {},
   "outputs": [],
   "source": [
    "def accuracy(y_true : np.ndarray, y_pred : np.ndarray):\n",
    "    \"\"\"\n",
    "    Compute the accuracy of the clustering.\n",
    "    \n",
    "    Parameters\n",
    "    ----------\n",
    "    y_true : np.ndarray\n",
    "        True labels of the samples\n",
    "    y_pred : np.ndarray\n",
    "        Predicted labels of the samples\n",
    "    \n",
    "    Returns\n",
    "    -------\n",
    "    float\n",
    "        Accuracy of the clustering through Hungarian algorithm\n",
    "    \"\"\"\n",
    "    \n",
    "    assert isinstance(y_true, np.ndarray), \"y_true must be a numpy array\"\n",
    "    assert isinstance(y_pred, np.ndarray), \"y_pred must be a numpy array\"\n",
    "\n",
    "    # create C matrix\n",
    "    n_classes = max(max(y_true), max(y_pred)) + 1\n",
    "    C = np.zeros((n_classes, n_classes), dtype=int)\n",
    "    for true_label, pred_label in zip(y_true, y_pred):\n",
    "        C[true_label, pred_label] += 1\n",
    "    \n",
    "    # Solve assignment problem\n",
    "    row_ind, col_ind = linear_sum_assignment(-C)\n",
    "    \n",
    "    # Calculate accuracy\n",
    "    matched = C[row_ind, col_ind].sum(axis=0)\n",
    "    accuracy = matched / len(y_true)\n",
    "    return accuracy\n"
   ]
  },
  {
   "cell_type": "code",
   "execution_count": 3,
   "metadata": {},
   "outputs": [],
   "source": [
    "from sklearn.cluster import KMeans as KMeans_sklearn\n",
    "\n",
    "KMeans = KMeans_sklearn()\n",
    "KMeans.fit = KMeans_sklearn.fit()"
   ]
  }
 ],
 "metadata": {
  "kernelspec": {
   "display_name": "Python 3",
   "language": "python",
   "name": "python3"
  },
  "language_info": {
   "codemirror_mode": {
    "name": "ipython",
    "version": 3
   },
   "file_extension": ".py",
   "mimetype": "text/x-python",
   "name": "python",
   "nbconvert_exporter": "python",
   "pygments_lexer": "ipython3",
   "version": "3.12.8"
  }
 },
 "nbformat": 4,
 "nbformat_minor": 2
}
